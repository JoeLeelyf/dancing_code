{
 "cells": [
  {
   "cell_type": "markdown",
   "metadata": {},
   "source": [
    "This Jupyter Notebook will introduce some useful python module, aimed to improve the efficiency and brevity of coding."
   ]
  },
  {
   "cell_type": "markdown",
   "metadata": {},
   "source": [
    "## 1. typing\n",
    "The typing module provides runtime support for type hints. It's used to remind you of **the datatype of parameters and return values**. The most fundamental support consists of the types Any, Union, Tuple, Callable, TypeVar, and Generic. For full specification please refer to [PEP 484](https://www.python.org/dev/peps/pep-0484/)."
   ]
  },
  {
   "cell_type": "markdown",
   "metadata": {},
   "source": [
    "### 1.1 Role\n",
    "- **Type Check**: The typing module provides runtime support for type hints. It's used to remind you of the datatype of parameters and return values.\n",
    "- **Additional Illustration**\n",
    "- It will not affect the running of the program, but it will be checked when the program is running. If the type is inconsistent, it will make a warning, instead of assert error."
   ]
  },
  {
   "cell_type": "markdown",
   "metadata": {},
   "source": [
    "### 1.2 Example"
   ]
  },
  {
   "cell_type": "code",
   "execution_count": 1,
   "metadata": {},
   "outputs": [
    {
     "name": "stdout",
     "output_type": "stream",
     "text": [
      "{'name': 'John Doe', 'age': '25'}\n"
     ]
    }
   ],
   "source": [
    "from typing import Dict\n",
    "\n",
    "def create_person(name: str, age: int) -> Dict[str, str]:\n",
    "    return {\"name\": name, \"age\": str(age)}\n",
    "\n",
    "# Example usage\n",
    "person = create_person(\"John Doe\", 25)\n",
    "print(person)  # Output: {\"name\": \"John Doe\", \"age\": \"25\"}\n"
   ]
  },
  {
   "cell_type": "code",
   "execution_count": 3,
   "metadata": {},
   "outputs": [
    {
     "name": "stdout",
     "output_type": "stream",
     "text": [
      "15\n"
     ]
    }
   ],
   "source": [
    "# Callable: indicate that a variable or function parameter is expected to be \n",
    "# a callable object, such as a function or a method.\n",
    "# Defined as Callable[..., ReturnType], \n",
    "# where ... represents the argument types that the callable can accept, \n",
    "# and ReturnType represents the return type of the callable.\n",
    "from typing import Callable\n",
    "\n",
    "def apply_operation(x: int, y: int, operation: Callable[[int, int], int]) -> int:\n",
    "    return operation(x, y)\n",
    "\n",
    "def multiply(a: int, b: int) -> int:\n",
    "    return a * b\n",
    "\n",
    "# Example usage\n",
    "result = apply_operation(5, 3, multiply)\n",
    "print(result)  # Output: 15\n"
   ]
  },
  {
   "cell_type": "code",
   "execution_count": 2,
   "metadata": {},
   "outputs": [
    {
     "name": "stdout",
     "output_type": "stream",
     "text": [
      "John Doe\n",
      "25\n"
     ]
    }
   ],
   "source": [
    "# Optional: either a assigned value type or None\n",
    "from typing import Optional\n",
    "\n",
    "class Person:\n",
    "    def __init__(self, name: str, age: Optional[int] = None) -> None:\n",
    "        self.name = name\n",
    "        self.age = age\n",
    "    \n",
    "    def get_name(self) -> str:\n",
    "        return self.name\n",
    "    \n",
    "    def get_age(self) -> Optional[int]:\n",
    "        return self.age\n",
    "    \n",
    "    def set_age(self, age: Optional[int]) -> None:\n",
    "        self.age = age\n",
    "\n",
    "# Example usage\n",
    "person = Person(\"John Doe\")\n",
    "person.set_age(25)\n",
    "print(person.get_name())  # Output: \"John Doe\"\n",
    "print(person.get_age())  # Output: 25"
   ]
  },
  {
   "cell_type": "markdown",
   "metadata": {},
   "source": [
    "## 2. os\n",
    "The os module provides a portable way of using operating system dependent functionality. "
   ]
  },
  {
   "cell_type": "markdown",
   "metadata": {},
   "source": [
    "### 2.1 os.path\n",
    "os.path is a submodule in the os module that provides functions for working with file paths. It offers a set of functions to manipulate and operate on file and directory paths in a platform-independent manner.\n",
    "Here are some commonly used functions from the os.path submodule:\n",
    "- os.path.join(path1, path2, ...): Concatenates one or more path components intelligently, taking into account the operating system's path separator.\n",
    "- os.path.abspath(path): Returns the absolute version of a given path by resolving any symbolic links or relative references.\n",
    "- os.path.dirname(path): Returns the directory portion of a given path.\n",
    "- os.path.basename(path): Returns the base name (last component) of a given path.\n",
    "- os.path.exists(path): Checks if a given path exists in the file system.\n",
    "- os.path.isfile(path): Checks if a given path is a regular file.\n",
    "- os.path.isdir(path): Checks if a given path is a directory.\n",
    "- os.path.splitext(path): Splits a given path into the base name and the file extension."
   ]
  },
  {
   "cell_type": "markdown",
   "metadata": {},
   "source": [
    "### 2.2 os.environ\n",
    "os.environ is a mapping object that represents the user's environmental variables. It returns a dictionary of strings, which is a copy of the user's environment. For example, the following code will print all the environmental variables."
   ]
  },
  {
   "cell_type": "code",
   "execution_count": 7,
   "metadata": {},
   "outputs": [],
   "source": [
    "import os\n",
    "\n",
    "# Iterate over all environment variables\n",
    "for key, value in os.environ.items():\n",
    "    # print(f\"{key}={value}\")\n",
    "    pass"
   ]
  },
  {
   "cell_type": "code",
   "execution_count": 6,
   "metadata": {},
   "outputs": [
    {
     "name": "stdout",
     "output_type": "stream",
     "text": [
      "/Users/liyifei\n",
      "None\n"
     ]
    }
   ],
   "source": [
    "# Get a specific environment variable\n",
    "print(os.environ.get(\"HOME\"))  \n",
    "print(os.environ.get(\"ENV_VARIABLE_NAME\"))"
   ]
  },
  {
   "cell_type": "markdown",
   "metadata": {},
   "source": [
    "## 3. pathlib\n",
    "pathlib is a module in Python's standard library that provides an object-oriented approach for working with file system paths. It simplifies and enhances file path manipulation by offering a more intuitive and expressive API compared to traditional string-based path manipulation.<br> Here are some commonly used functions from the pathlib module:"
   ]
  },
  {
   "cell_type": "code",
   "execution_count": 10,
   "metadata": {},
   "outputs": [
    {
     "name": "stdout",
     "output_type": "stream",
     "text": [
      "file.txt\n",
      "path/to\n",
      ".txt\n",
      "True\n",
      "True\n",
      "False\n",
      "file.txt\n"
     ]
    },
    {
     "data": {
      "text/plain": [
       "13"
      ]
     },
     "execution_count": 10,
     "metadata": {},
     "output_type": "execute_result"
    }
   ],
   "source": [
    "from pathlib import Path\n",
    "# Create a Path object\n",
    "path = Path(\"path/to/file.txt\")\n",
    "\n",
    "# Accessing parts of the path\n",
    "print(path.name)  # Get the file name: \"file.txt\"\n",
    "print(path.parent) # Get the parent directory: \"path/to\"\n",
    "print(path.suffix) # Get the file extension: \".txt\"\n",
    "\n",
    "# Join paths\n",
    "path = Path(\"path/to\")\n",
    "new_path = path / \"file.txt\" # \"path/to/file.txt\"\n",
    "\n",
    "# Check if a path exists\n",
    "path = Path(\"path/to/file.txt\")\n",
    "print(path.exists()) # Check if the path exists\n",
    "print(path.is_file()) # Check if the path is a file\n",
    "print(path.is_dir()) # Check if the path is a directory\n",
    "\n",
    "# Iterate over a directory\n",
    "path = Path(\"path/to\")\n",
    "for file in path.iterdir():\n",
    "    print(file.name)\n",
    "\n",
    "# Read and write files\n",
    "path = Path(\"path/to/file.txt\")\n",
    "text = path.read_text() # Read the contents of the file\n",
    "path.write_text(\"Hello, World!\") # Write to the file"
   ]
  },
  {
   "cell_type": "markdown",
   "metadata": {},
   "source": [
    "## 4. json"
   ]
  },
  {
   "cell_type": "markdown",
   "metadata": {},
   "source": [
    "The json module in Python provides functions for working with JSON (JavaScript Object Notation) data. It allows you to encode Python objects into JSON strings and decode JSON strings into Python objects.\n",
    "Here are some commonly used functions in the json module:\n",
    "- json.dumps(obj, indent=None, separators=None): Serializes a Python object to a JSON formatted string.\n",
    "   - obj: The Python object to be serialized.\n",
    "   - indent (optional): Specifies the indentation level for pretty-printing the JSON string.\n",
    "   - separators (optional): Controls the separators used in the JSON string."
   ]
  },
  {
   "cell_type": "code",
   "execution_count": 12,
   "metadata": {},
   "outputs": [
    {
     "name": "stdout",
     "output_type": "stream",
     "text": [
      "{\"name\": \"John Doe\", \"age\": 25, \"is_student\": true}\n"
     ]
    }
   ],
   "source": [
    "import json\n",
    "# dumps() method converts a Python object into a JSON string.\n",
    "data = {\n",
    "    \"name\": \"John Doe\",\n",
    "    \"age\": 25,\n",
    "    \"is_student\": True\n",
    "}\n",
    "json_string = json.dumps(data)\n",
    "print(json_string)  # Output: {\"name\": \"John Doe\", \"age\": 25, \"is_student\": true}"
   ]
  },
  {
   "cell_type": "markdown",
   "metadata": {},
   "source": [
    "- json.dump(obj, fp, indent=None, separators=None): Serializes a Python object and writes it to a file-like object (e.g., a file opened in write mode).\n",
    "    - obj: The Python object to be serialized.\n",
    "    - fp: A file-like object (e.g., a file opened in write mode) to write the JSON string to.\n",
    "    - indent and separators have the same usage as in dumps()."
   ]
  },
  {
   "cell_type": "markdown",
   "metadata": {},
   "source": [
    "- json.loads(s): Deserializes a JSON formatted string to a Python object.\n",
    "   - s: The JSON string to be deserialized."
   ]
  },
  {
   "cell_type": "code",
   "execution_count": 14,
   "metadata": {},
   "outputs": [
    {
     "name": "stdout",
     "output_type": "stream",
     "text": [
      "John Doe\n",
      "25\n",
      "True\n"
     ]
    }
   ],
   "source": [
    "# Deserialize a JSON string into a Python object\n",
    "json_str = '{\"name\": \"John Doe\", \"age\": 25, \"is_student\": true}'\n",
    "data = json.loads(json_str)\n",
    "print(data[\"name\"])\n",
    "print(data[\"age\"])\n",
    "print(data[\"is_student\"])"
   ]
  },
  {
   "cell_type": "markdown",
   "metadata": {},
   "source": [
    "- json.load(fp): Deserializes a JSON string from a file-like object (e.g., a file opened in read mode) into a Python object.\n",
    "    - fp: A file-like object (e.g., a file opened in read mode) to read the JSON string from."
   ]
  },
  {
   "cell_type": "markdown",
   "metadata": {},
   "source": [
    "## 5. logging\n",
    "The `logging` module in Python provides a flexible framework for emitting log messages from an application or library. It allows you to record informative messages about the execution of your code, which can be useful for debugging, monitoring, or auditing purposes.<br>\n",
    "Here are the key components and concepts of the logging module:\n",
    "- Logger: A logger object represents a named logging channel. It is used to emit log messages. You can have multiple logger objects in your code, each with its own configuration and behavior. Loggers are organized in a hierarchy, with a root logger at the top.\n",
    "- Log Handler: A log handler determines where the log messages are outputted. It can be configured to send log messages to different destinations, such as the console, a file, or a network socket. The logging module provides several built-in handler classes, and you can also create custom handlers.\n",
    "- Log Formatter: A log formatter determines the format of the log messages. It specifies how the log messages are displayed or written to the output. The logging module provides various formatter classes, and you can customize the format as per your requirements.\n",
    "- Log Level: Each log message has a severity level associated with it. The logging module defines several built-in levels in increasing order of severity: DEBUG, INFO, WARNING, ERROR, and CRITICAL. You can configure loggers and log handlers to filter and handle log messages based on their severity level.\n",
    "- Configuration: The logging module provides different ways to configure logging. You can configure logging programmatically using Python code, or you can use a configuration file in INI or JSON format. Configuration can include setting the log level, defining log handlers and formatters, and specifying other logging options.\n",
    "<br>\n",
    "\n",
    "Here's a basic example that demonstrates how to use the logging module:"
   ]
  },
  {
   "cell_type": "code",
   "execution_count": 15,
   "metadata": {},
   "outputs": [
    {
     "name": "stderr",
     "output_type": "stream",
     "text": [
      "2023-07-16 16:44:47,449 - INFO - Info message\n",
      "2023-07-16 16:44:47,453 - WARNING - Warning message\n",
      "2023-07-16 16:44:47,454 - ERROR - Error message\n",
      "2023-07-16 16:44:47,454 - CRITICAL - Critical message\n"
     ]
    }
   ],
   "source": [
    "import logging\n",
    "\n",
    "# Get a logger object\n",
    "logger = logging.getLogger(\"my_logger\")\n",
    "\n",
    "# Set the log level\n",
    "logger.setLevel(logging.INFO)\n",
    "\n",
    "# Create a log handler and set its level\n",
    "handler = logging.StreamHandler()\n",
    "handler.setLevel(logging.INFO)\n",
    "\n",
    "# Create a log formatter and set it to the handler\n",
    "formatter = logging.Formatter(\"%(asctime)s - %(levelname)s - %(message)s\")\n",
    "handler.setFormatter(formatter)\n",
    "\n",
    "# Add the handler to the logger\n",
    "logger.addHandler(handler)\n",
    "\n",
    "# Emit log messages\n",
    "logger.debug(\"Debug message\")\n",
    "logger.info(\"Info message\")\n",
    "logger.warning(\"Warning message\")\n",
    "logger.error(\"Error message\")\n",
    "logger.critical(\"Critical message\")"
   ]
  }
 ],
 "metadata": {
  "kernelspec": {
   "display_name": "SignalSystem",
   "language": "python",
   "name": "python3"
  },
  "language_info": {
   "codemirror_mode": {
    "name": "ipython",
    "version": 3
   },
   "file_extension": ".py",
   "mimetype": "text/x-python",
   "name": "python",
   "nbconvert_exporter": "python",
   "pygments_lexer": "ipython3",
   "version": "3.9.16"
  },
  "orig_nbformat": 4
 },
 "nbformat": 4,
 "nbformat_minor": 2
}
