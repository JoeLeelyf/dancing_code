{
 "cells": [
  {
   "cell_type": "markdown",
   "metadata": {},
   "source": [
    "This Jupyter Notebook will introduce you to some further advanced features of the usage of PyTorch."
   ]
  },
  {
   "cell_type": "markdown",
   "metadata": {},
   "source": [
    "## 1. torchrun\n",
    "The `torchrun` command is a script provided by PyTorch for running distributed training or inference across multiple processes or nodes. It simplifies the process of launching and managing distributed PyTorch jobs.\n",
    "The basic usage of torchrun is as follows:\n",
    "```bash\n",
    "torchrun [torchrun_options] <script.py>  [script_args]\n",
    "```\n",
    "- torchrun: The command to invoke the torchrun script.\n",
    "- [torchrun_options]: Optional command-line options that can be passed to torchrun to configure the distributed training settings. Some common options include:\n",
    "    - --nproc_per_node: Specifies the number of processes to launch per node.\n",
    "    - --nnodes: Specifies the number of nodes to use.\n",
    "    - --node_rank: Specifies the rank of the current node (typically determined automatically).\n",
    "    - --master_addr and --master_port: Specifies the address and port for the master node.\n",
    "    - --use_env: Uses environment variables for configuration instead of command-line arguments.\n",
    "- python_script: The path to the Python script that contains the training or inference code you want to run.\n",
    "- [script_args]: Optional arguments that are passed to the Python script.\n",
    "\n",
    "torchrun takes care of launching the specified number of processes, setting up the appropriate communication backend (e.g., nccl for GPU-based training), and coordinating the distributed training or inference.<br>\n",
    "It's important to note that torchrun is typically used in distributed training scenarios where you have multiple processes running on multiple nodes. If you are running a single-process job or don't require distributed training, you can simply execute the Python script directly without torchrun."
   ]
  }
 ],
 "metadata": {
  "kernelspec": {
   "display_name": "SignalSystem",
   "language": "python",
   "name": "python3"
  },
  "language_info": {
   "name": "python",
   "version": "3.11.4"
  },
  "orig_nbformat": 4
 },
 "nbformat": 4,
 "nbformat_minor": 2
}
